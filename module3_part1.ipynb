{
 "cells": [
  {
   "cell_type": "markdown",
   "id": "4995842a",
   "metadata": {},
   "source": [
    "# Introduction\n",
    "This is a project that take the \"BBC News Classification\" data set from Kaggle, and attempts to classify matrix factorization, which is a form of unsupervised learning. I also perform supervised learning methods on the data, and compare the results to the unsupervised methods. \n",
    "\n",
    "Link to Jupyter notebook: https://github.com/highdeltav/Unsupervised-Learning-Week3"
   ]
  },
  {
   "cell_type": "code",
   "execution_count": 1,
   "id": "2bf575da",
   "metadata": {},
   "outputs": [],
   "source": [
    "import sklearn\n",
    "import pandas as pd\n",
    "import numpy as np\n",
    "import matplotlib.pyplot as plt\n",
    "\n",
    "from sklearn.metrics import confusion_matrix\n",
    "from sklearn.feature_extraction.text import TfidfVectorizer\n",
    "from sklearn.feature_extraction.text import CountVectorizer\n",
    "from sklearn.decomposition import NMF\n",
    "from sklearn.decomposition import TruncatedSVD\n",
    "from sklearn.model_selection import train_test_split\n",
    "from sklearn.neighbors import KNeighborsClassifier\n",
    "from sklearn.metrics import ConfusionMatrixDisplay \n",
    "from sklearn.decomposition import non_negative_factorization\n",
    "from itertools import permutations\n",
    "\n",
    "#This is just for formatting, since some of the Sklearn permutations had warnings\n",
    "import warnings \n",
    "warnings.filterwarnings(\"ignore\")\n",
    "\n",
    "np.set_printoptions(suppress=True)"
   ]
  },
  {
   "cell_type": "code",
   "execution_count": 2,
   "id": "d14056bf",
   "metadata": {},
   "outputs": [],
   "source": [
    "file_train = 'bbc_data/BBC News Train.csv'\n",
    "file_test  = 'bbc_data/BBC News Test.csv'\n",
    "df_train   = pd.read_csv(file_train)\n",
    "df_test    = pd.read_csv(file_test)\n",
    "\n",
    "\n",
    "X_train = df_train['Text']\n",
    "y_train = df_train['Category']\n",
    "X_test = df_test['Text']\n",
    "\n",
    "X_train = X_train.replace(',','', regex=True)\n",
    "X_test = X_test.replace(',','', regex=True)\n",
    "\n",
    "#Created for the text database, so the train and test sets can be run against the same model\n",
    "X_all = pd.concat([X_train, X_test])\n"
   ]
  },
  {
   "cell_type": "code",
   "execution_count": 3,
   "id": "e0a14054",
   "metadata": {},
   "outputs": [
    {
     "data": {
      "text/html": [
       "<div>\n",
       "<style scoped>\n",
       "    .dataframe tbody tr th:only-of-type {\n",
       "        vertical-align: middle;\n",
       "    }\n",
       "\n",
       "    .dataframe tbody tr th {\n",
       "        vertical-align: top;\n",
       "    }\n",
       "\n",
       "    .dataframe thead th {\n",
       "        text-align: right;\n",
       "    }\n",
       "</style>\n",
       "<table border=\"1\" class=\"dataframe\">\n",
       "  <thead>\n",
       "    <tr style=\"text-align: right;\">\n",
       "      <th></th>\n",
       "      <th>ArticleId</th>\n",
       "      <th>Text</th>\n",
       "      <th>Category</th>\n",
       "    </tr>\n",
       "  </thead>\n",
       "  <tbody>\n",
       "    <tr>\n",
       "      <th>0</th>\n",
       "      <td>1833</td>\n",
       "      <td>worldcom ex-boss launches defence lawyers defe...</td>\n",
       "      <td>business</td>\n",
       "    </tr>\n",
       "    <tr>\n",
       "      <th>1</th>\n",
       "      <td>154</td>\n",
       "      <td>german business confidence slides german busin...</td>\n",
       "      <td>business</td>\n",
       "    </tr>\n",
       "    <tr>\n",
       "      <th>2</th>\n",
       "      <td>1101</td>\n",
       "      <td>bbc poll indicates economic gloom citizens in ...</td>\n",
       "      <td>business</td>\n",
       "    </tr>\n",
       "    <tr>\n",
       "      <th>3</th>\n",
       "      <td>1976</td>\n",
       "      <td>lifestyle  governs mobile choice  faster  bett...</td>\n",
       "      <td>tech</td>\n",
       "    </tr>\n",
       "    <tr>\n",
       "      <th>4</th>\n",
       "      <td>917</td>\n",
       "      <td>enron bosses in $168m payout eighteen former e...</td>\n",
       "      <td>business</td>\n",
       "    </tr>\n",
       "    <tr>\n",
       "      <th>...</th>\n",
       "      <td>...</td>\n",
       "      <td>...</td>\n",
       "      <td>...</td>\n",
       "    </tr>\n",
       "    <tr>\n",
       "      <th>1485</th>\n",
       "      <td>857</td>\n",
       "      <td>double eviction from big brother model caprice...</td>\n",
       "      <td>entertainment</td>\n",
       "    </tr>\n",
       "    <tr>\n",
       "      <th>1486</th>\n",
       "      <td>325</td>\n",
       "      <td>dj double act revamp chart show dj duo jk and ...</td>\n",
       "      <td>entertainment</td>\n",
       "    </tr>\n",
       "    <tr>\n",
       "      <th>1487</th>\n",
       "      <td>1590</td>\n",
       "      <td>weak dollar hits reuters revenues at media gro...</td>\n",
       "      <td>business</td>\n",
       "    </tr>\n",
       "    <tr>\n",
       "      <th>1488</th>\n",
       "      <td>1587</td>\n",
       "      <td>apple ipod family expands market apple has exp...</td>\n",
       "      <td>tech</td>\n",
       "    </tr>\n",
       "    <tr>\n",
       "      <th>1489</th>\n",
       "      <td>538</td>\n",
       "      <td>santy worm makes unwelcome visit thousands of ...</td>\n",
       "      <td>tech</td>\n",
       "    </tr>\n",
       "  </tbody>\n",
       "</table>\n",
       "<p>1490 rows × 3 columns</p>\n",
       "</div>"
      ],
      "text/plain": [
       "      ArticleId                                               Text  \\\n",
       "0          1833  worldcom ex-boss launches defence lawyers defe...   \n",
       "1           154  german business confidence slides german busin...   \n",
       "2          1101  bbc poll indicates economic gloom citizens in ...   \n",
       "3          1976  lifestyle  governs mobile choice  faster  bett...   \n",
       "4           917  enron bosses in $168m payout eighteen former e...   \n",
       "...         ...                                                ...   \n",
       "1485        857  double eviction from big brother model caprice...   \n",
       "1486        325  dj double act revamp chart show dj duo jk and ...   \n",
       "1487       1590  weak dollar hits reuters revenues at media gro...   \n",
       "1488       1587  apple ipod family expands market apple has exp...   \n",
       "1489        538  santy worm makes unwelcome visit thousands of ...   \n",
       "\n",
       "           Category  \n",
       "0          business  \n",
       "1          business  \n",
       "2          business  \n",
       "3              tech  \n",
       "4          business  \n",
       "...             ...  \n",
       "1485  entertainment  \n",
       "1486  entertainment  \n",
       "1487       business  \n",
       "1488           tech  \n",
       "1489           tech  \n",
       "\n",
       "[1490 rows x 3 columns]"
      ]
     },
     "execution_count": 3,
     "metadata": {},
     "output_type": "execute_result"
    }
   ],
   "source": [
    "df_train"
   ]
  },
  {
   "cell_type": "markdown",
   "id": "596b48b3",
   "metadata": {},
   "source": [
    "# Cleaning and EDA"
   ]
  },
  {
   "cell_type": "markdown",
   "id": "990965cd",
   "metadata": {},
   "source": [
    "This started off as a clean data set. I did want to make sure that before it was uploaded to Kaggle that everything was made lower-case, and that punctuation had been removed. I also checked to make sure that there were no null values that were a part of the text. "
   ]
  },
  {
   "cell_type": "code",
   "execution_count": 4,
   "id": "c120c722",
   "metadata": {},
   "outputs": [
    {
     "name": "stdout",
     "output_type": "stream",
     "text": [
      "0    worldcom ex-boss launches defence lawyers defe...\n",
      "1    german business confidence slides german busin...\n",
      "2    bbc poll indicates economic gloom citizens in ...\n",
      "3    lifestyle  governs mobile choice  faster  bett...\n",
      "4    enron bosses in $168m payout eighteen former e...\n",
      "Name: Text, dtype: object\n",
      "Number of Null Values: 0\n"
     ]
    }
   ],
   "source": [
    "#Verify everything is lower Case\n",
    "print(X_train.head())\n",
    "X_train = X_train.str.lower()\n",
    "print(f\"Number of Null Values: {X_train.isna().sum()}\")\n"
   ]
  },
  {
   "cell_type": "markdown",
   "id": "bdff6bfc",
   "metadata": {},
   "source": [
    "## Text to Matrix Conversion\n",
    "### TF-IDF\n",
    "I decided to use Term Frequency-Inverse Document Frequency for converting words into matrices. At first glance, it appears simple to just take the number of occurrences of each word, divide by the total words in the documents, and create a matrix of that information. That is called term frequency. However, doing that will create a model that will assign greater importance to common, and unimportant words.  TF-IDF tries to rectify this by creating weights for each word. It decreases the weights of common words, and increases the weights of less common words. It does this by combining term frequency with document frequency. Document frequency is the number of documents that contain that specific term. \n",
    "\n",
    "To be more sepcific, the formula that is used is $tf(t,d)*log\\frac{N}{df+1}$. where DF is the document frequency, and N is the document set. $tf(t,)d$ is the term frequency for document D. The plus one is added to prevent dividing by 0, and the log is taken to reduce the effect of a large N.\n",
    "\n",
    "### Process\n",
    "The first thing I did was convert the data sets to TF-IDF for both the training and test sets. I also made a third set that combines the documents from both train and test. This third set could be used to get information on the data such as, which words are the most common. As a part of the process, I did use a list of stop words that were eliminated from the text completely. These words are some of the most common words, that would be found in every document. By eliminating them, it eliminates noise from the model."
   ]
  },
  {
   "cell_type": "code",
   "execution_count": 5,
   "id": "beeaf496",
   "metadata": {},
   "outputs": [],
   "source": [
    "# Create the matrix with TFI\n",
    "tfi = TfidfVectorizer(stop_words = 'english')\n",
    "tfi.fit(X_all)\n",
    "X_tfi_all = tfi.transform(X_all)\n",
    "X_tfi_train = tfi.transform(X_train)\n",
    "X_tfi_test =  tfi.transform(X_test)\n",
    "\n",
    "#Create the matrix with word counts\n",
    "cv = CountVectorizer(stop_words = 'english')\n",
    "cv.fit(X_all)\n",
    "X_cv_all = cv.fit_transform(X_all)\n",
    "X_cv_train = cv.transform(X_train)\n",
    "X_cv_test = cv.transform(X_test)\n",
    "\n",
    "\n"
   ]
  },
  {
   "cell_type": "markdown",
   "id": "7db28dc6",
   "metadata": {},
   "source": [
    "Once I had the words converted to matrix form, I created some histograms. The first histogram showed that most words only occurred a few times, but it was hard to see how many outliers there were. These words would be much more common words. To how many of those there were, I then limited the y-axis to 10, so I could see the rest of the histogram better. It showed that there were some words that occurred much more often. One word (‘said’) occurred 7255 times. These are the words that we wanted to limit the weight of in our final model."
   ]
  },
  {
   "cell_type": "code",
   "execution_count": 6,
   "id": "12350c19",
   "metadata": {},
   "outputs": [
    {
     "data": {
      "image/png": "[encoded data removed]",
      "text/plain": [
       "<Figure size 640x480 with 1 Axes>"
      ]
     },
     "metadata": {},
     "output_type": "display_data"
    }
   ],
   "source": [
    "plt.hist(np.sum(X_cv_all.toarray(), axis = 0), bins = 100)\n",
    "plt.xlabel('Number of Occurences')\n",
    "plt.ylabel('Number of Words')\n",
    "plt.title('Histogram of Word Frequency')\n",
    "plt.show()"
   ]
  },
  {
   "cell_type": "code",
   "execution_count": 7,
   "id": "182418ae",
   "metadata": {},
   "outputs": [
    {
     "data": {
      "text/plain": [
       "(0.0, 10.0)"
      ]
     },
     "execution_count": 7,
     "metadata": {},
     "output_type": "execute_result"
    },
    {
     "data": {
      "image/png": "[encoded data removed]",
      "text/plain": [
       "<Figure size 640x480 with 1 Axes>"
      ]
     },
     "metadata": {},
     "output_type": "display_data"
    }
   ],
   "source": [
    "\n",
    "plt.hist(np.sum(X_cv_all.toarray(), axis = 0), bins = 100)\n",
    "plt.xlabel('Number of Occurences')\n",
    "plt.ylabel('Number of Words')\n",
    "plt.title('Histogram of Word Frequency')\n",
    "plt.ylim([0,10])\n"
   ]
  },
  {
   "cell_type": "code",
   "execution_count": 8,
   "id": "dc41c49e",
   "metadata": {},
   "outputs": [
    {
     "name": "stdout",
     "output_type": "stream",
     "text": [
      "Most common words:\n",
      "1. said: 7255\n",
      "2. mr: 3005\n",
      "3. year: 2309\n",
      "4. people: 2045\n",
      "5. new: 1978\n",
      "6. time: 1322\n",
      "7. world: 1201\n",
      "8. government: 1160\n",
      "9. uk: 1115\n",
      "10. years: 1003\n"
     ]
    }
   ],
   "source": [
    "#Find the most common word\n",
    "words_index_sorted = np.sum(X_cv_all.toarray(), axis = 0).argsort()[::-1]\n",
    "\n",
    "print('Most common words:')\n",
    "for i in range(0,10):\n",
    "    print(f\"{i+1}. {cv.get_feature_names_out()[words_index_sorted[i]]}: {np.sum(X_cv_all.toarray(), axis = 0)[words_index_sorted[i]]}\")"
   ]
  },
  {
   "cell_type": "markdown",
   "id": "dbc8e494",
   "metadata": {},
   "source": [
    "# Model"
   ]
  },
  {
   "cell_type": "markdown",
   "id": "228eb907",
   "metadata": {},
   "source": [
    "For the model, I chose to use the Non-negative Matrix Factorization method. This model works well with text manipulation. The problem we were given was a classification problem. This is a somewhat unique way of using NMF, since NMF is unsupervised learning. Since we did have labels for the data, we could check the accuracy of the model. Because we were attempting to check the accuracy of classification with 5 categories of text, I limited the final model to 5 components. This allowed me to categorize each document into each in a category by taking the using the feature with the maximum weight. \n",
    "\n",
    "While I primarily did this modeling with TF-IDF, I also created a model just based on the count of the words. I did this to see how much more accurate TF-IDF is, than just using the word counts per document. \n",
    "\n",
    "After I did the modeling, I would upload a CSV to Kaggle to get the test accuracy. That is where the 'test' accuracy values come from. "
   ]
  },
  {
   "cell_type": "code",
   "execution_count": 9,
   "id": "dc082f89",
   "metadata": {},
   "outputs": [],
   "source": [
    "\"\"\"\n",
    "Function for performing the modeling\n",
    "\"\"\"\n",
    "\n",
    "def classify(NMF_array):\n",
    "    \"\"\"\n",
    "    Return a prediction where it takes the most likely category and assignes them a number\n",
    "    from that category. \n",
    "    \"\"\"\n",
    "    return np.argmax(NMF_array, axis = 1)\n",
    "\n",
    "def label_permute_compare(ytdf,yp,n=5):\n",
    "    \"\"\"\n",
    "    Returns accuracy and the best permutation of the predictions\n",
    "    \"\"\"\n",
    "    \n",
    "    #Extract information from the dataframes and prediction output\n",
    "    label_perm = list(permutations(pd.unique(ytdf)))\n",
    "    #label_values = ytdf.value_counts()\n",
    "    #print(label_values)\n",
    "    #print(label_perm)\n",
    "    max_acc = 0\n",
    "    best_perm = []\n",
    "    \n",
    "    for perm in label_perm:\n",
    "        temp_acc = compute_accuracy(ytdf, yp, perm)\n",
    "        if temp_acc > max_acc:\n",
    "            max_acc = temp_acc\n",
    "            best_perm = perm\n",
    "    return (tuple(best_perm), max_acc)\n",
    "\n",
    "def compute_accuracy(ytdf, yp, cluster_order = None):\n",
    "    \"\"\"\n",
    "    Retursn the accuracy of of a prediction.\n",
    "    Optionally takes a different order for the values. Useful when permutating.\n",
    "    \"\"\"\n",
    "    \n",
    "    yp_rename = yp.astype(object)\n",
    "    #Organize the order if needed\n",
    "    if cluster_order != None:\n",
    "        yp_rename = convert_to_labels(yp, cluster_order)\n",
    "    \n",
    "    accuracy = (np.count_nonzero(yp_rename == ytdf))/len(yp_rename)\n",
    "    return accuracy\n",
    "\n",
    "def convert_to_labels(yp, cluster_order):\n",
    "    \"\"\"\n",
    "    Converts numbers to a cluster catagories, or rearranges catagorical clusters\n",
    "    \"\"\"\n",
    "    yp_rename = yp.astype(object)\n",
    "    for k in range(0,len(cluster_order)):\n",
    "        #Rename the clusters to the correct label\n",
    "        yp_rename[yp_rename == k] = cluster_order[k]\n",
    "    return(yp_rename)\n",
    "\n",
    "def export_for_kaggle(filename, predictions): \n",
    "    \"\"\"\n",
    "    Takes the prections, and creates a CSV file that meets the requirements for Kaggle\n",
    "    \"\"\"\n",
    "    df_test_pred = df_test\n",
    "    df_test_pred['Category'] = predictions\n",
    "    pd.DataFrame(df_test_pred).to_csv(filename, index = False, columns = ['ArticleId','Category' ])"
   ]
  },
  {
   "cell_type": "markdown",
   "id": "194b587d",
   "metadata": {},
   "source": [
    "## NMF"
   ]
  },
  {
   "cell_type": "code",
   "execution_count": 10,
   "id": "de9d2b5a",
   "metadata": {},
   "outputs": [],
   "source": [
    "NMF_model = NMF(n_components = 5, init = 'nndsvda')\n",
    "NMF_model.fit(X_tfi_train)\n",
    "NMF_transform_train = NMF_model.transform(X_tfi_train)\n",
    "NMF_transform_test = NMF_model.transform(X_tfi_test)"
   ]
  },
  {
   "cell_type": "code",
   "execution_count": 11,
   "id": "6139d454",
   "metadata": {},
   "outputs": [],
   "source": [
    "y_pred_train = classify(NMF_transform_train)\n",
    "y_pred_test = classify(NMF_transform_test)\n",
    "#pd.DataFrame(y_pred_test, columns = 'prediction')"
   ]
  },
  {
   "cell_type": "code",
   "execution_count": 12,
   "id": "5bcefb70",
   "metadata": {},
   "outputs": [
    {
     "name": "stdout",
     "output_type": "stream",
     "text": [
      "Train: Accuracy: 0.9167785234899329, Labels: ('sport', 'politics', 'tech', 'entertainment', 'business')\n"
     ]
    }
   ],
   "source": [
    "labels, accuracy = label_permute_compare(y_train, y_pred_train)\n",
    "print(f\"Train: Accuracy: {accuracy}, Labels: {labels}\")\n"
   ]
  },
  {
   "cell_type": "code",
   "execution_count": 13,
   "id": "11c5a149",
   "metadata": {},
   "outputs": [
    {
     "name": "stdout",
     "output_type": "stream",
     "text": [
      "(5, 29126)\n",
      "(1490, 29126)\n",
      "(1490, 5)\n"
     ]
    }
   ],
   "source": [
    "print(NMF_model.components_.shape)\n",
    "print(X_tfi_train.shape)\n",
    "print(NMF_transform_train.shape)"
   ]
  },
  {
   "cell_type": "code",
   "execution_count": 14,
   "id": "9ffdd685",
   "metadata": {},
   "outputs": [],
   "source": [
    "y_pred_with_labels = convert_to_labels(y_pred_test, labels)"
   ]
  },
  {
   "cell_type": "code",
   "execution_count": 15,
   "id": "d16592fd",
   "metadata": {},
   "outputs": [],
   "source": [
    "export_for_kaggle('start_nmf_train.csv', y_pred_with_labels)"
   ]
  },
  {
   "cell_type": "code",
   "execution_count": 16,
   "id": "e25d3d42",
   "metadata": {},
   "outputs": [
    {
     "name": "stdout",
     "output_type": "stream",
     "text": [
      "Train: Accuracy: 0.91678\n",
      "Test: Accuracy .92244\n"
     ]
    }
   ],
   "source": [
    "print(f\"Train: Accuracy: {accuracy:.5f}\")\n",
    "print(\"Test: Accuracy .92244\")"
   ]
  },
  {
   "cell_type": "markdown",
   "id": "7fabc7e3",
   "metadata": {},
   "source": [
    "## Tune hyperparameters\n",
    "### TF- IDF\n",
    "After using the default values, and finding decent accuracy, I then tuned the hyperparameters, in an attempt to find parameters that would give me a more accurate answer. I did this for both the TF-IDF and the count vector matrices.  "
   ]
  },
  {
   "cell_type": "code",
   "execution_count": 17,
   "id": "0fd13a99",
   "metadata": {},
   "outputs": [],
   "source": [
    "solver = ['cd','mu']\n",
    "beta_loss = ['frobenius', 'kullback-leibler']\n",
    "init = ['random', 'nndsvd', 'nndsvda', 'nndsvdar']\n",
    "\n",
    "accuracy_list = []\n",
    "parameter_list = []\n",
    "\n",
    "for i in solver:\n",
    "        for j in beta_loss:\n",
    "            for k in init:\n",
    "                try:\n",
    "                    NMF_model_multi = NMF(n_components = 5, \n",
    "                                          solver = i, \n",
    "                                          beta_loss = j, \n",
    "                                          random_state = 213,\n",
    "                                          init = k )\n",
    "                    NMF_model_multi.fit(X_tfi_train)\n",
    "                    NMF_transform_train_multi = NMF_model_multi.transform(X_tfi_train)\n",
    "\n",
    "                    y_pred_train_multi = classify(NMF_transform_train_multi)\n",
    "                    labels_multi, accuracy_multi = label_permute_compare(y_train, y_pred_train_multi)\n",
    "                    #print(NMF_model_multi.get_params())\n",
    "                    #print(f\"Train: Accuracy: {accuracy_multi}\")\n",
    "                    accuracy_list.append(accuracy_multi)\n",
    "                    parameter_list.append([i,j,k])\n",
    "                except:\n",
    "                    continue\n",
    "                \n",
    "#NMF_transform_test = NMF_model.transform(X_tfi_test)"
   ]
  },
  {
   "cell_type": "markdown",
   "id": "6e5c0c0b",
   "metadata": {},
   "source": [
    "## Count Vector"
   ]
  },
  {
   "cell_type": "code",
   "execution_count": 18,
   "id": "01773cac",
   "metadata": {},
   "outputs": [],
   "source": [
    "solver = ['cd','mu']\n",
    "beta_loss = ['frobenius', 'kullback-leibler']\n",
    "init = ['random', 'nndsvd', 'nndsvda', 'nndsvdar']\n",
    "\n",
    "accuracy_list_cv = []\n",
    "parameter_list_cv = []\n",
    "\n",
    "for i in solver:\n",
    "        for j in beta_loss:\n",
    "            for k in init:\n",
    "                try:\n",
    "                    NMF_model_multi = NMF(n_components = 5, \n",
    "                                          solver = i, \n",
    "                                          beta_loss = j, \n",
    "                                          random_state = 213, \n",
    "                                          init = k )\n",
    "                    NMF_model_multi.fit(X_cv_train)\n",
    "                    NMF_transform_train_multi = NMF_model_multi.transform(X_cv_train)\n",
    "\n",
    "                    y_pred_train_multi = classify(NMF_transform_train_multi)\n",
    "                    labels_multi, accuracy_multi = label_permute_compare(y_train, y_pred_train_multi)\n",
    "                    #print(NMF_model_multi.get_params())\n",
    "                    #print(f\"Train: Accuracy: {accuracy_multi}\")\n",
    "                    accuracy_list_cv.append(accuracy_multi)\n",
    "                    parameter_list_cv.append([i,j,k])\n",
    "                except:\n",
    "                    # Ignore parameters that don't work together\n",
    "                    continue\n",
    "                "
   ]
  },
  {
   "cell_type": "markdown",
   "id": "2fc6a534",
   "metadata": {},
   "source": [
    "### Comparison CV and TF-IDF\n",
    "\n",
    "As expected, there was a huge difference between just counting the different words in each article, and using TF-IDF. The absolute best accuracy for CV was only 80 percent, for the training data, with around 93 percent for the training data with TF-IDF."
   ]
  },
  {
   "cell_type": "code",
   "execution_count": 19,
   "id": "92cc7c2f",
   "metadata": {},
   "outputs": [
    {
     "data": {
      "image/png": "[encoded data removed]",
      "text/plain": [
       "<Figure size 640x480 with 1 Axes>"
      ]
     },
     "metadata": {},
     "output_type": "display_data"
    },
    {
     "name": "stdout",
     "output_type": "stream",
     "text": [
      "TF-IDF\n",
      "1. 0.8987: ['cd', 'frobenius', 'random'] \n",
      "2. 0.9161: ['cd', 'frobenius', 'nndsvd'] \n",
      "3. 0.9168: ['cd', 'frobenius', 'nndsvda'] \n",
      "4. 0.9161: ['cd', 'frobenius', 'nndsvdar'] \n",
      "5. 0.9040: ['mu', 'frobenius', 'random'] \n",
      "6. 0.8732: ['mu', 'frobenius', 'nndsvd'] \n",
      "7. 0.9114: ['mu', 'frobenius', 'nndsvda'] \n",
      "8. 0.9114: ['mu', 'frobenius', 'nndsvdar'] \n",
      "9. 0.7396: ['mu', 'kullback-leibler', 'random'] \n",
      "10. 0.9208: ['mu', 'kullback-leibler', 'nndsvd'] \n",
      "11. 0.9315: ['mu', 'kullback-leibler', 'nndsvda'] \n",
      "12. 0.9362: ['mu', 'kullback-leibler', 'nndsvdar'] \n",
      "\n",
      "\n",
      "CF\n",
      "1. 0.6074: ['cd', 'frobenius', 'random'] \n",
      "2. 0.6161: ['cd', 'frobenius', 'nndsvd'] \n",
      "3. 0.6181: ['cd', 'frobenius', 'nndsvda'] \n",
      "4. 0.6161: ['cd', 'frobenius', 'nndsvdar'] \n",
      "5. 0.4859: ['mu', 'frobenius', 'random'] \n",
      "6. 0.5799: ['mu', 'frobenius', 'nndsvd'] \n",
      "7. 0.6013: ['mu', 'frobenius', 'nndsvda'] \n",
      "8. 0.6007: ['mu', 'frobenius', 'nndsvdar'] \n",
      "9. 0.7765: ['mu', 'kullback-leibler', 'random'] \n",
      "10. 0.6732: ['mu', 'kullback-leibler', 'nndsvd'] \n",
      "11. 0.7966: ['mu', 'kullback-leibler', 'nndsvda'] \n",
      "12. 0.7611: ['mu', 'kullback-leibler', 'nndsvdar'] \n"
     ]
    }
   ],
   "source": [
    "x_for_plot = [1,2,3,4,5,6,7,8,9,10,11,12]\n",
    "plt.plot(x_for_plot,accuracy_list)\n",
    "plt.plot(x_for_plot,accuracy_list_cv)\n",
    "plt.title('Accuracy of NMF Model with TF-IDF Compared with Count Vector Only')\n",
    "plt.xlabel('Number of Hyperparameter Combination')\n",
    "plt.ylabel('Percentage')\n",
    "plt.ylim([0,1])\n",
    "plt.show()\n",
    "\n",
    "print(\"TF-IDF\")\n",
    "for i in range(0,len(accuracy_list)):\n",
    "    print(f\"{i+1}. {accuracy_list[i]:.4f}: {parameter_list[i]} \")\n",
    "print(\"\\n\")\n",
    "print(\"CF\")\n",
    "for i in range(0,len(accuracy_list_cv)):\n",
    "    print(f\"{i+1}. {accuracy_list_cv[i]:.4f}: {parameter_list_cv[i]} \")"
   ]
  },
  {
   "cell_type": "markdown",
   "id": "9e91be2a",
   "metadata": {},
   "source": [
    "### Best fit model\n",
    "Once I had the best parameters for the model, which were:\n",
    "Solver:'mu'\n",
    "beta_loss: 'kullback-leibler'\n",
    "Initiate method: 'nndsvdar'\n",
    "\n",
    "For the best fit model, I uploaded its prediction figures to Kaggle to get its accuracy. I also plotted a confusion matrix for the train data, to better understand where the model was struggling. It seems to struggle the most with differentiation \"tech\" and \"business.\" From a intuitive level, this makes sense as there is lots of overlap between tech and business. The test data actually had slightly better accuracy, than the training data. "
   ]
  },
  {
   "cell_type": "code",
   "execution_count": 20,
   "id": "a16c08b4",
   "metadata": {},
   "outputs": [
    {
     "name": "stdout",
     "output_type": "stream",
     "text": [
      "Train: Accuracy: 0.93624\n",
      "Test: Accuracy: .95238\n"
     ]
    }
   ],
   "source": [
    "# Create a model with the best fit for the NMF Model\n",
    "NMF_model_best = NMF(n_components = 5,\n",
    "                     solver = 'mu', \n",
    "                     beta_loss = 'kullback-leibler', \n",
    "                     random_state = 213,\n",
    "                     init = 'nndsvdar' )\n",
    "NMF_model_best.fit(X_tfi_train)\n",
    "NMF_transform_train_best = NMF_model_best.transform(X_tfi_train)\n",
    "NMF_transform_test_best = NMF_model_best.transform(X_tfi_test)\n",
    "y_pred_train_best = classify(NMF_transform_train_best)\n",
    "y_pred_test_best = classify(NMF_transform_test_best)\n",
    "\n",
    "labels, accuracy = label_permute_compare(y_train, y_pred_train_best)\n",
    "\n",
    "# Change the numbers to the text labels\n",
    "y_pred_best_with_labels_train = convert_to_labels(y_pred_train_best, labels)\n",
    "y_pred_best_with_labels_test = convert_to_labels(y_pred_test_best, labels)\n",
    "\n",
    "\n",
    "export_for_kaggle('best_NMF_train1.csv', y_pred_best_with_labels_test)\n",
    "\n",
    "print(f\"Train: Accuracy: {accuracy:.5f}\")\n",
    "print(f\"Test: Accuracy: .95238\")"
   ]
  },
  {
   "cell_type": "code",
   "execution_count": 21,
   "id": "94543aa4",
   "metadata": {},
   "outputs": [
    {
     "data": {
      "text/plain": [
       "<sklearn.metrics._plot.confusion_matrix.ConfusionMatrixDisplay at 0x7ff11e329ff0>"
      ]
     },
     "execution_count": 21,
     "metadata": {},
     "output_type": "execute_result"
    },
    {
     "data": {
      "image/png": "[encoded data removed]",
      "text/plain": [
       "<Figure size 640x480 with 2 Axes>"
      ]
     },
     "metadata": {},
     "output_type": "display_data"
    }
   ],
   "source": [
    "# Create Confusion Matrix\n",
    "cm_matrix = confusion_matrix(np.array(y_train), y_pred_best_with_labels_train, labels = labels)\n",
    "disp = ConfusionMatrixDisplay(cm_matrix, display_labels = labels)\n",
    "disp.plot(values_format='')"
   ]
  },
  {
   "cell_type": "markdown",
   "id": "cb263375",
   "metadata": {},
   "source": [
    "## Improvment\n"
   ]
  },
  {
   "cell_type": "markdown",
   "id": "8947d52b",
   "metadata": {},
   "source": [
    "One way in which I attempted to improve the model, besides tuning hyperparameters, was to use all of the data set, not just the test data. Normally, with a classification problem, this would not make sense, and would be a poor idea. In this case I decided to try it, because it also increases the number of words included in the model. A model like this does not work well, if it can't use all of the words in the document. In an unsupervised modeling situation, you wouldn't normally split your train and test data, because you have nothing to compare it to, to check for accuracy. Interestingly, the model improved the prediction for the train set, but it stayed the same for the test set. \n",
    "\n",
    "There are other ways we could attempt improvement. One way would be to change how we convert the text to a matrix. It would be interesting to compare some other methods to TF-IDF."
   ]
  },
  {
   "cell_type": "code",
   "execution_count": 22,
   "id": "04ca4f31",
   "metadata": {},
   "outputs": [
    {
     "name": "stdout",
     "output_type": "stream",
     "text": [
      "Train: Accuracy: 0.9523489932885906\n",
      "Test: Accuracy: .95238\n"
     ]
    }
   ],
   "source": [
    "# Create a model with the best fit for the NMF Model\n",
    "NMF_model_best_all = NMF(n_components = 5,\n",
    "                     solver = 'mu', \n",
    "                     beta_loss = 'kullback-leibler', \n",
    "                     random_state = 213,\n",
    "                     init = 'nndsvdar' )\n",
    "NMF_model_best_all.fit(X_tfi_all)\n",
    "NMF_transform_train_best_all = NMF_model_best_all.transform(X_tfi_train)\n",
    "NMF_transform_test_best_all = NMF_model_best_all.transform(X_tfi_test)\n",
    "y_pred_train_best_all = classify(NMF_transform_train_best_all)\n",
    "y_pred_test_best_all = classify(NMF_transform_test_best_all)\n",
    "\n",
    "labels, accuracy = label_permute_compare(y_train, y_pred_train_best_all)\n",
    "\n",
    "# Change the numbers to the text labels\n",
    "y_pred_best_with_labels_train_all = convert_to_labels(y_pred_train_best_all, labels)\n",
    "y_pred_best_with_labels_test_all = convert_to_labels(y_pred_test_best_all, labels)\n",
    "\n",
    "\n",
    "export_for_kaggle('best_NMF_all.csv', y_pred_best_with_labels_test_all)\n",
    "\n",
    "print(f\"Train: Accuracy: {accuracy}\")\n",
    "print(f\"Test: Accuracy: .95238\")"
   ]
  },
  {
   "cell_type": "code",
   "execution_count": 23,
   "id": "4049b393",
   "metadata": {},
   "outputs": [
    {
     "data": {
      "text/plain": [
       "<sklearn.metrics._plot.confusion_matrix.ConfusionMatrixDisplay at 0x7ff11de3f910>"
      ]
     },
     "execution_count": 23,
     "metadata": {},
     "output_type": "execute_result"
    },
    {
     "data": {
      "image/png": "[encoded data removed]",
      "text/plain": [
       "<Figure size 640x480 with 2 Axes>"
      ]
     },
     "metadata": {},
     "output_type": "display_data"
    }
   ],
   "source": [
    "# Create Confusion Matrix\n",
    "cm_matrix = confusion_matrix(np.array(y_train), y_pred_best_with_labels_train, labels = labels)\n",
    "disp = ConfusionMatrixDisplay(cm_matrix, display_labels = labels)\n",
    "disp.plot(values_format='')"
   ]
  },
  {
   "cell_type": "markdown",
   "id": "a9e89b0e",
   "metadata": {},
   "source": [
    "# Supervised Learning"
   ]
  },
  {
   "cell_type": "markdown",
   "id": "070c1329",
   "metadata": {},
   "source": [
    "For the supervised learning model, I decided to try AdaBoost and KNN. AdaBoost got very poor results, so I didn't continue with that model. However, with KNN, I got values that were similar to what I had with the unsupervised learning. This surprised me a little, because, in general, one wants to use supervised learning when labels are available. I could spend more time fine tuning KNN, or try more supervised learning methods, and I would probably get better results. In fact, there are scores on the Kaggle competition, around .98.) However, it shows that the NMF model is doing a fairly good job in this instance, even when compared to supervised learning."
   ]
  },
  {
   "cell_type": "markdown",
   "id": "4b271821",
   "metadata": {},
   "source": [
    "## AdaBoost"
   ]
  },
  {
   "cell_type": "code",
   "execution_count": 24,
   "id": "dac13c94",
   "metadata": {},
   "outputs": [
    {
     "data": {
      "text/html": [
       "<style>#sk-container-id-1 {color: black;background-color: white;}#sk-container-id-1 pre{padding: 0;}#sk-container-id-1 div.sk-toggleable {background-color: white;}#sk-container-id-1 label.sk-toggleable__label {cursor: pointer;display: block;width: 100%;margin-bottom: 0;padding: 0.3em;box-sizing: border-box;text-align: center;}#sk-container-id-1 label.sk-toggleable__label-arrow:before {content: \"▸\";float: left;margin-right: 0.25em;color: #696969;}#sk-container-id-1 label.sk-toggleable__label-arrow:hover:before {color: black;}#sk-container-id-1 div.sk-estimator:hover label.sk-toggleable__label-arrow:before {color: black;}#sk-container-id-1 div.sk-toggleable__content {max-height: 0;max-width: 0;overflow: hidden;text-align: left;background-color: #f0f8ff;}#sk-container-id-1 div.sk-toggleable__content pre {margin: 0.2em;color: black;border-radius: 0.25em;background-color: #f0f8ff;}#sk-container-id-1 input.sk-toggleable__control:checked~div.sk-toggleable__content {max-height: 200px;max-width: 100%;overflow: auto;}#sk-container-id-1 input.sk-toggleable__control:checked~label.sk-toggleable__label-arrow:before {content: \"▾\";}#sk-container-id-1 div.sk-estimator input.sk-toggleable__control:checked~label.sk-toggleable__label {background-color: #d4ebff;}#sk-container-id-1 div.sk-label input.sk-toggleable__control:checked~label.sk-toggleable__label {background-color: #d4ebff;}#sk-container-id-1 input.sk-hidden--visually {border: 0;clip: rect(1px 1px 1px 1px);clip: rect(1px, 1px, 1px, 1px);height: 1px;margin: -1px;overflow: hidden;padding: 0;position: absolute;width: 1px;}#sk-container-id-1 div.sk-estimator {font-family: monospace;background-color: #f0f8ff;border: 1px dotted black;border-radius: 0.25em;box-sizing: border-box;margin-bottom: 0.5em;}#sk-container-id-1 div.sk-estimator:hover {background-color: #d4ebff;}#sk-container-id-1 div.sk-parallel-item::after {content: \"\";width: 100%;border-bottom: 1px solid gray;flex-grow: 1;}#sk-container-id-1 div.sk-label:hover label.sk-toggleable__label {background-color: #d4ebff;}#sk-container-id-1 div.sk-serial::before {content: \"\";position: absolute;border-left: 1px solid gray;box-sizing: border-box;top: 0;bottom: 0;left: 50%;z-index: 0;}#sk-container-id-1 div.sk-serial {display: flex;flex-direction: column;align-items: center;background-color: white;padding-right: 0.2em;padding-left: 0.2em;position: relative;}#sk-container-id-1 div.sk-item {position: relative;z-index: 1;}#sk-container-id-1 div.sk-parallel {display: flex;align-items: stretch;justify-content: center;background-color: white;position: relative;}#sk-container-id-1 div.sk-item::before, #sk-container-id-1 div.sk-parallel-item::before {content: \"\";position: absolute;border-left: 1px solid gray;box-sizing: border-box;top: 0;bottom: 0;left: 50%;z-index: -1;}#sk-container-id-1 div.sk-parallel-item {display: flex;flex-direction: column;z-index: 1;position: relative;background-color: white;}#sk-container-id-1 div.sk-parallel-item:first-child::after {align-self: flex-end;width: 50%;}#sk-container-id-1 div.sk-parallel-item:last-child::after {align-self: flex-start;width: 50%;}#sk-container-id-1 div.sk-parallel-item:only-child::after {width: 0;}#sk-container-id-1 div.sk-dashed-wrapped {border: 1px dashed gray;margin: 0 0.4em 0.5em 0.4em;box-sizing: border-box;padding-bottom: 0.4em;background-color: white;}#sk-container-id-1 div.sk-label label {font-family: monospace;font-weight: bold;display: inline-block;line-height: 1.2em;}#sk-container-id-1 div.sk-label-container {text-align: center;}#sk-container-id-1 div.sk-container {/* jupyter's `normalize.less` sets `[hidden] { display: none; }` but bootstrap.min.css set `[hidden] { display: none !important; }` so we also need the `!important` here to be able to override the default hidden behavior on the sphinx rendered scikit-learn.org. See: https://github.com/scikit-learn/scikit-learn/issues/21755 */display: inline-block !important;position: relative;}#sk-container-id-1 div.sk-text-repr-fallback {display: none;}</style><div id=\"sk-container-id-1\" class=\"sk-top-container\"><div class=\"sk-text-repr-fallback\"><pre>AdaBoostClassifier()</pre><b>In a Jupyter environment, please rerun this cell to show the HTML representation or trust the notebook. <br />On GitHub, the HTML representation is unable to render, please try loading this page with nbviewer.org.</b></div><div class=\"sk-container\" hidden><div class=\"sk-item\"><div class=\"sk-estimator sk-toggleable\"><input class=\"sk-toggleable__control sk-hidden--visually\" id=\"sk-estimator-id-1\" type=\"checkbox\" checked><label for=\"sk-estimator-id-1\" class=\"sk-toggleable__label sk-toggleable__label-arrow\">AdaBoostClassifier</label><div class=\"sk-toggleable__content\"><pre>AdaBoostClassifier()</pre></div></div></div></div></div>"
      ],
      "text/plain": [
       "AdaBoostClassifier()"
      ]
     },
     "execution_count": 24,
     "metadata": {},
     "output_type": "execute_result"
    }
   ],
   "source": [
    "from sklearn.ensemble import AdaBoostClassifier\n",
    "ada = sklearn.ensemble.AdaBoostClassifier()\n",
    "ada.fit(X_tfi_train, y_train)\n"
   ]
  },
  {
   "cell_type": "code",
   "execution_count": 25,
   "id": "f69547d9",
   "metadata": {},
   "outputs": [],
   "source": [
    "ada_pred_train = ada.predict(X_tfi_train)\n",
    "ada_pred_test = ada.predict(X_tfi_test)"
   ]
  },
  {
   "cell_type": "code",
   "execution_count": 26,
   "id": "a926c3c8",
   "metadata": {},
   "outputs": [],
   "source": [
    "export_for_kaggle('ada.csv', ada_pred_test)"
   ]
  },
  {
   "cell_type": "code",
   "execution_count": 27,
   "id": "4e44bd9c",
   "metadata": {},
   "outputs": [
    {
     "name": "stdout",
     "output_type": "stream",
     "text": [
      "AdaBoost\n",
      "Train: 0.77919\n",
      "Test: 0.73877\n"
     ]
    }
   ],
   "source": [
    "print('AdaBoost')\n",
    "print(f\"Train: {compute_accuracy(ada_pred_train, np.array(y_train)):.5f}\")\n",
    "print(f\"Test: 0.73877\")"
   ]
  },
  {
   "cell_type": "markdown",
   "id": "557a60b4",
   "metadata": {},
   "source": [
    "## KNN"
   ]
  },
  {
   "cell_type": "code",
   "execution_count": 28,
   "id": "369c485e",
   "metadata": {
    "scrolled": false
   },
   "outputs": [
    {
     "data": {
      "text/html": [
       "<style>#sk-container-id-2 {color: black;background-color: white;}#sk-container-id-2 pre{padding: 0;}#sk-container-id-2 div.sk-toggleable {background-color: white;}#sk-container-id-2 label.sk-toggleable__label {cursor: pointer;display: block;width: 100%;margin-bottom: 0;padding: 0.3em;box-sizing: border-box;text-align: center;}#sk-container-id-2 label.sk-toggleable__label-arrow:before {content: \"▸\";float: left;margin-right: 0.25em;color: #696969;}#sk-container-id-2 label.sk-toggleable__label-arrow:hover:before {color: black;}#sk-container-id-2 div.sk-estimator:hover label.sk-toggleable__label-arrow:before {color: black;}#sk-container-id-2 div.sk-toggleable__content {max-height: 0;max-width: 0;overflow: hidden;text-align: left;background-color: #f0f8ff;}#sk-container-id-2 div.sk-toggleable__content pre {margin: 0.2em;color: black;border-radius: 0.25em;background-color: #f0f8ff;}#sk-container-id-2 input.sk-toggleable__control:checked~div.sk-toggleable__content {max-height: 200px;max-width: 100%;overflow: auto;}#sk-container-id-2 input.sk-toggleable__control:checked~label.sk-toggleable__label-arrow:before {content: \"▾\";}#sk-container-id-2 div.sk-estimator input.sk-toggleable__control:checked~label.sk-toggleable__label {background-color: #d4ebff;}#sk-container-id-2 div.sk-label input.sk-toggleable__control:checked~label.sk-toggleable__label {background-color: #d4ebff;}#sk-container-id-2 input.sk-hidden--visually {border: 0;clip: rect(1px 1px 1px 1px);clip: rect(1px, 1px, 1px, 1px);height: 1px;margin: -1px;overflow: hidden;padding: 0;position: absolute;width: 1px;}#sk-container-id-2 div.sk-estimator {font-family: monospace;background-color: #f0f8ff;border: 1px dotted black;border-radius: 0.25em;box-sizing: border-box;margin-bottom: 0.5em;}#sk-container-id-2 div.sk-estimator:hover {background-color: #d4ebff;}#sk-container-id-2 div.sk-parallel-item::after {content: \"\";width: 100%;border-bottom: 1px solid gray;flex-grow: 1;}#sk-container-id-2 div.sk-label:hover label.sk-toggleable__label {background-color: #d4ebff;}#sk-container-id-2 div.sk-serial::before {content: \"\";position: absolute;border-left: 1px solid gray;box-sizing: border-box;top: 0;bottom: 0;left: 50%;z-index: 0;}#sk-container-id-2 div.sk-serial {display: flex;flex-direction: column;align-items: center;background-color: white;padding-right: 0.2em;padding-left: 0.2em;position: relative;}#sk-container-id-2 div.sk-item {position: relative;z-index: 1;}#sk-container-id-2 div.sk-parallel {display: flex;align-items: stretch;justify-content: center;background-color: white;position: relative;}#sk-container-id-2 div.sk-item::before, #sk-container-id-2 div.sk-parallel-item::before {content: \"\";position: absolute;border-left: 1px solid gray;box-sizing: border-box;top: 0;bottom: 0;left: 50%;z-index: -1;}#sk-container-id-2 div.sk-parallel-item {display: flex;flex-direction: column;z-index: 1;position: relative;background-color: white;}#sk-container-id-2 div.sk-parallel-item:first-child::after {align-self: flex-end;width: 50%;}#sk-container-id-2 div.sk-parallel-item:last-child::after {align-self: flex-start;width: 50%;}#sk-container-id-2 div.sk-parallel-item:only-child::after {width: 0;}#sk-container-id-2 div.sk-dashed-wrapped {border: 1px dashed gray;margin: 0 0.4em 0.5em 0.4em;box-sizing: border-box;padding-bottom: 0.4em;background-color: white;}#sk-container-id-2 div.sk-label label {font-family: monospace;font-weight: bold;display: inline-block;line-height: 1.2em;}#sk-container-id-2 div.sk-label-container {text-align: center;}#sk-container-id-2 div.sk-container {/* jupyter's `normalize.less` sets `[hidden] { display: none; }` but bootstrap.min.css set `[hidden] { display: none !important; }` so we also need the `!important` here to be able to override the default hidden behavior on the sphinx rendered scikit-learn.org. See: https://github.com/scikit-learn/scikit-learn/issues/21755 */display: inline-block !important;position: relative;}#sk-container-id-2 div.sk-text-repr-fallback {display: none;}</style><div id=\"sk-container-id-2\" class=\"sk-top-container\"><div class=\"sk-text-repr-fallback\"><pre>KNeighborsClassifier()</pre><b>In a Jupyter environment, please rerun this cell to show the HTML representation or trust the notebook. <br />On GitHub, the HTML representation is unable to render, please try loading this page with nbviewer.org.</b></div><div class=\"sk-container\" hidden><div class=\"sk-item\"><div class=\"sk-estimator sk-toggleable\"><input class=\"sk-toggleable__control sk-hidden--visually\" id=\"sk-estimator-id-2\" type=\"checkbox\" checked><label for=\"sk-estimator-id-2\" class=\"sk-toggleable__label sk-toggleable__label-arrow\">KNeighborsClassifier</label><div class=\"sk-toggleable__content\"><pre>KNeighborsClassifier()</pre></div></div></div></div></div>"
      ],
      "text/plain": [
       "KNeighborsClassifier()"
      ]
     },
     "execution_count": 28,
     "metadata": {},
     "output_type": "execute_result"
    }
   ],
   "source": [
    "KNN = KNeighborsClassifier(n_neighbors = 5)\n",
    "KNN.fit(X_tfi_train, y_train)"
   ]
  },
  {
   "cell_type": "code",
   "execution_count": 29,
   "id": "86e02f67",
   "metadata": {},
   "outputs": [],
   "source": [
    "knn_pred_train = KNN.predict(X_tfi_train)\n",
    "knn_pred_test = KNN.predict(X_tfi_test)"
   ]
  },
  {
   "cell_type": "code",
   "execution_count": 30,
   "id": "77a9a4d7",
   "metadata": {},
   "outputs": [
    {
     "data": {
      "text/plain": [
       "0.9570469798657718"
      ]
     },
     "execution_count": 30,
     "metadata": {},
     "output_type": "execute_result"
    }
   ],
   "source": [
    "compute_accuracy(knn_pred_train, np.array(y_train))"
   ]
  },
  {
   "cell_type": "code",
   "execution_count": 31,
   "id": "c10d2bdb",
   "metadata": {},
   "outputs": [],
   "source": [
    "\n",
    "export_for_kaggle('knn.csv', knn_pred_test)"
   ]
  },
  {
   "cell_type": "code",
   "execution_count": 32,
   "id": "a524c3f5",
   "metadata": {},
   "outputs": [
    {
     "name": "stdout",
     "output_type": "stream",
     "text": [
      "KNN\n",
      "Train: 0.95705\n",
      "Test: 0.92925\n"
     ]
    }
   ],
   "source": [
    "print('KNN')\n",
    "print(f\"Train: {compute_accuracy(knn_pred_train, np.array(y_train)):.5f}\")\n",
    "print(f\"Test: 0.92925\")"
   ]
  },
  {
   "cell_type": "markdown",
   "id": "3a200994",
   "metadata": {},
   "source": [
    "## Improvement\n",
    "To improve the efficiency of the KNN model, I changed how much data I trained the model with varying amounts of the train data and compared it to its Kaggle values. \n",
    "\n",
    "|Percentage of Train Data|Test Score from Kaggle|\n",
    "|:----|:--------:|\n",
    "|.99|.93605 |\n",
    "|.90|.93469 |\n",
    "|.80|.93741 |\n",
    "|.70|.94149 |\n",
    "|.60|.93061 |\n",
    "|.50|.91564 |\n",
    "|.40|.92244 |\n",
    "|.30|.92108 |\n",
    "|.20|.92517 |\n",
    "|.10|.92380 |\n",
    "\n",
    "There was not a significant difference between using 10 percent and using 50 percent. And then there wasn't a huge difference between 6 percent and 99 percent of the data used for training. That leads me to believe that KNN is efficient for training, and can accomplish a fairly good model, will very little input. "
   ]
  },
  {
   "cell_type": "code",
   "execution_count": 33,
   "id": "8b9b1cfb",
   "metadata": {},
   "outputs": [
    {
     "name": "stdout",
     "output_type": "stream",
     "text": [
      "Percent of train data: 0.1\n",
      "0.9463087248322147\n",
      "0.9112602535421327\n",
      "Percent of train data: 0.2\n",
      "0.9563758389261745\n",
      "0.9219798657718121\n",
      "Percent of train data: 0.3\n",
      "0.9574944071588367\n",
      "0.925215723873442\n",
      "Percent of train data: 0.4\n",
      "0.9563758389261745\n",
      "0.9205816554809844\n",
      "Percent of train data: 0.5\n",
      "0.9583892617449664\n",
      "0.9140939597315436\n",
      "Percent of train data: 0.6\n",
      "0.9552572706935123\n",
      "0.9194630872483222\n",
      "Percent of train data: 0.7\n",
      "0.9568552253116012\n",
      "0.9194630872483222\n",
      "Percent of train data: 0.8\n",
      "0.9538590604026845\n",
      "0.9228187919463087\n",
      "Percent of train data: 0.9\n",
      "0.9537658463832961\n",
      "0.9395973154362416\n",
      "Percent of train data: 0.99\n",
      "0.9572881355932203\n",
      "0.8666666666666667\n"
     ]
    }
   ],
   "source": [
    "percents = [.1,.2,.3,.4,.5,.6,.7,.8,.9, .99]\n",
    "\n",
    "#Loop through splitting up the test data. \n",
    "for j in percents:\n",
    "    # Loop with different data values. It uses .99 to not mess up sklearn\n",
    "    X_train_small_loop, X_test_small_loop, y_train_small_loop, y_test_small_loop =  train_test_split(X_tfi_train,y_train, train_size = j, random_state = 213)\n",
    "    KNN_small_loop =  KNeighborsClassifier(n_neighbors = 5)\n",
    "    KNN_small_loop.fit(X_train_small_loop, y_train_small_loop)\n",
    "    knn_pred_train_small_loop = KNN_small_loop.predict(X_train_small_loop)\n",
    "    knn_pred_test_small_loop = KNN_small_loop.predict(X_test_small_loop)\n",
    "    knn_pred_test_small_loop_kag = KNN_small_loop.predict(X_tfi_test)\n",
    "    \n",
    "    # Print the results and export\n",
    "    print(f\"Percent of train data: {j}\")\n",
    "    print(compute_accuracy(knn_pred_train_small_loop, np.array(y_train_small_loop)))\n",
    "    print(compute_accuracy(knn_pred_test_small_loop, np.array(y_test_small_loop)))\n",
    "    export_for_kaggle('knn_loop_'+str(j)+'.csv',knn_pred_test_small_loop_kag)"
   ]
  },
  {
   "cell_type": "markdown",
   "id": "fd457cbe",
   "metadata": {},
   "source": [
    "# Conclusion\n",
    "The NMF model did a fairly good job, when modeled with the TF-IDF data for classification. It had similar numbers to the KNN supervised model. While, I am sure a supervised model could be tuned to be better, for an unsupervised model classifying data, the NMF model did well.\n"
   ]
  },
  {
   "cell_type": "markdown",
   "id": "5b1e7d2e",
   "metadata": {},
   "source": [
    "# References\n",
    "BBC News Classification [Data set]. https://www.kaggle.com/competitions/learn-ai-bbc/submissions\n",
    "\n",
    "\n",
    "Duque, Tiago . (2020, November 9). *How to turn Text into Features.*\n",
    "  Retrieved from  https://towardsdatascience.com/how-to-turn-text-into-features-478b57632e99\n",
    "\n",
    "Hamdaoui, Yassine. (2019, December 9). *TF(Term Frequency)-IDF(Inverse Document Frequency) from scratch in python.*   https://towardsdatascience.com/tf-term-frequency-idf-inverse-document-frequency-from-scratch-in-python-6c2b61b78558\n",
    "\n",
    "Kachkach, Ahmed . (2018, January 10). *Problem-solving with ML: automatic document classification.*\n",
    "  Retrieved from https://cloud.google.com/blog/products/ai-machine-learning/problem-solving-with-ml-automatic-document-classification\n",
    "\n",
    "Ramadhan, Luthfi. (2021, January 20). *TF-IDF Simplified.*\n",
    "  Retrieved from https://towardsdatascience.com/tf-idf-simplified-aba19d5f5530\n",
    "  \n",
    "\n"
   ]
  },
  {
   "cell_type": "code",
   "execution_count": null,
   "id": "6d86d07f",
   "metadata": {},
   "outputs": [],
   "source": []
  },
  {
   "cell_type": "code",
   "execution_count": null,
   "id": "c8a09004",
   "metadata": {},
   "outputs": [],
   "source": []
  }
 ],
 "metadata": {
  "kernelspec": {
   "display_name": "Machine Learning",
   "language": "python",
   "name": "machine_learning"
  },
  "language_info": {
   "codemirror_mode": {
    "name": "ipython",
    "version": 3
   },
   "file_extension": ".py",
   "mimetype": "text/x-python",
   "name": "python",
   "nbconvert_exporter": "python",
   "pygments_lexer": "ipython3",
   "version": "3.10.9"
  }
 },
 "nbformat": 4,
 "nbformat_minor": 5
}
