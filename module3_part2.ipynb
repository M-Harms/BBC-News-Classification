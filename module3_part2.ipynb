{
 "cells": [
  {
   "cell_type": "markdown",
   "id": "d405c5c3",
   "metadata": {},
   "source": [
    "# Discussion\n",
    "In the code below, I modified the class from the the movie recommender assignment to use Sklearn's NMF model. I found an RMSE value of 2.911. This is significantly higher than the baseline values in the week 3 assignment. The reason for this is because when NMF sees a zero, it assumes that the user rated the movie a 0. That means that all of the zeros are averaged into the predictions. Since there are lots of zeros, this has the result of lowering all the ratings. \n",
    "\n",
    "I think this could be fixed by finding a better value instead of zero. One suggestion would be to use a 3, since that is theoretically what an average user would rate a movie. Other options that would make sense would be to replace them with a user average, or a movie average.\n",
    "\n",
    "Link to Jupyter notebook: https://github.com/highdeltav/Unsupervised-Learning-Week3"
   ]
  },
  {
   "cell_type": "markdown",
   "id": "4d665b02",
   "metadata": {},
   "source": [
    "# Code"
   ]
  },
  {
   "cell_type": "code",
   "execution_count": 1,
   "id": "3af7c08b",
   "metadata": {},
   "outputs": [],
   "source": [
    "import pandas as pd\n",
    "import matplotlib.pyplot as plt\n",
    "import numpy as np\n",
    "import time\n",
    "from sklearn.model_selection import train_test_split\n",
    "from scipy.sparse import coo_matrix, csr_matrix\n",
    "from scipy.spatial.distance import jaccard, cosine \n",
    "from pytest import approx\n",
    "from sklearn.decomposition import NMF"
   ]
  },
  {
   "cell_type": "code",
   "execution_count": 2,
   "id": "549cb086",
   "metadata": {},
   "outputs": [],
   "source": [
    "MV_users = pd.read_csv('movie_data/users.csv')\n",
    "MV_movies = pd.read_csv('movie_data/movies.csv')\n",
    "train = pd.read_csv('movie_data/train.csv')\n",
    "test = pd.read_csv('movie_data/test.csv')"
   ]
  },
  {
   "cell_type": "code",
   "execution_count": 3,
   "id": "6e3cee9a",
   "metadata": {},
   "outputs": [],
   "source": [
    "from collections import namedtuple\n",
    "Data = namedtuple('Data', ['users','movies','train','test'])\n",
    "data = Data(MV_users, MV_movies, train, test)"
   ]
  },
  {
   "cell_type": "code",
   "execution_count": 4,
   "id": "524a1335",
   "metadata": {},
   "outputs": [],
   "source": [
    "class RecSys():\n",
    "    def __init__(self,data):\n",
    "        self.data=data\n",
    "        self.allusers = list(self.data.users['uID'])\n",
    "        self.allmovies = list(self.data.movies['mID'])\n",
    "        self.genres = list(self.data.movies.columns.drop(['mID', 'title', 'year']))\n",
    "        self.mid2idx = dict(zip(self.data.movies.mID,list(range(len(self.data.movies)))))\n",
    "        self.uid2idx = dict(zip(self.data.users.uID,list(range(len(self.data.users)))))\n",
    "        self.Mr=self.rating_matrix()\n",
    "        self.Mm=None \n",
    "        self.sim=np.zeros((len(self.allmovies),len(self.allmovies)))\n",
    "        \n",
    "    def rating_matrix(self):\n",
    "        \"\"\"\n",
    "        Convert the rating matrix to numpy array of shape (#allusers,#allmovies)\n",
    "        \"\"\"\n",
    "        ind_movie = [self.mid2idx[x] for x in self.data.train.mID] \n",
    "        ind_user = [self.uid2idx[x] for x in self.data.train.uID]\n",
    "        rating_train = list(train.rating)\n",
    "        return np.array(coo_matrix((rating_train, (ind_user, ind_movie)),\n",
    "                                   shape=(len(self.allusers),\n",
    "                                          len(self.allmovies))).toarray())\n",
    "\n",
    "    def predict_from_sim(self,uid,mid):\n",
    "            \"\"\"\n",
    "            Predict a user rating on a movie given userID and movieID\n",
    "            \"\"\"\n",
    "            # your code here\n",
    "\n",
    "            movie_index = self.mid2idx[mid]\n",
    "            user_index = self.uid2idx[uid]\n",
    "\n",
    "            return self.sim[user_index,movie_index]\n",
    "\n",
    "        \n",
    "    def predict(self):\n",
    "        \"\"\"\n",
    "        Predict ratings in the test data. Returns predicted rating in a numpy array of size (# of rows in testdata,)\n",
    "        \"\"\"\n",
    "        # your code here\n",
    "        return np.array(self.data.test.apply(lambda x: self.predict_from_sim(x['uID'], x['mID']), axis = 1))\n",
    "    \n",
    "    def rmse(self,yp):\n",
    "        yp[np.isnan(yp)]=3 #In case there is nan values in prediction, it will impute to 3.\n",
    "        yt=np.array(self.data.test.rating)\n",
    "        return np.sqrt(((yt-yp)**2).mean())\n",
    "    \n",
    "    def nmf(self):\n",
    "        X = self.Mr\n",
    "        ts = time.time()\n",
    "        NMF_model = NMF(n_components = 10, max_iter = 1500)\n",
    "        NMF_model.fit(X)\n",
    "        te = time.time()\n",
    "        print(f\"Runtime of model: {te-ts}\")\n",
    "        \n",
    "        W = NMF_model.transform(X)\n",
    "        H = NMF_model.components_\n",
    "        self.sim = np.dot(W,H)\n",
    "        "
   ]
  },
  {
   "cell_type": "code",
   "execution_count": 5,
   "id": "7e42b7f9",
   "metadata": {},
   "outputs": [
    {
     "name": "stdout",
     "output_type": "stream",
     "text": [
      "Runtime of model: 12.982351541519165\n"
     ]
    }
   ],
   "source": [
    "rec = RecSys(data)\n",
    "rec.nmf()"
   ]
  },
  {
   "cell_type": "code",
   "execution_count": 6,
   "id": "1bb237fc",
   "metadata": {},
   "outputs": [],
   "source": [
    "y_pred = rec.predict()"
   ]
  },
  {
   "cell_type": "code",
   "execution_count": 7,
   "id": "8868c3e5",
   "metadata": {},
   "outputs": [
    {
     "data": {
      "text/plain": [
       "array([1.95395342, 0.86297973, 0.21207891, ..., 0.44894441, 0.17072982,\n",
       "       0.24428557])"
      ]
     },
     "execution_count": 7,
     "metadata": {},
     "output_type": "execute_result"
    }
   ],
   "source": [
    "y_pred"
   ]
  },
  {
   "cell_type": "code",
   "execution_count": 8,
   "id": "f3325bfe",
   "metadata": {},
   "outputs": [
    {
     "name": "stdout",
     "output_type": "stream",
     "text": [
      "RMSE: 2.9118191391872275\n"
     ]
    }
   ],
   "source": [
    "print(f\"RMSE: {rec.rmse(y_pred)}\")"
   ]
  },
  {
   "cell_type": "markdown",
   "id": "b5629132",
   "metadata": {},
   "source": [
    "# Appendix\n",
    "Bonus test to see what the RMSE would be if 3s replaced all of the zeros."
   ]
  },
  {
   "cell_type": "code",
   "execution_count": 9,
   "id": "cc3ab749",
   "metadata": {},
   "outputs": [],
   "source": [
    "X_mod = rec.Mr.copy()\n"
   ]
  },
  {
   "cell_type": "code",
   "execution_count": 10,
   "id": "4157d0d9",
   "metadata": {},
   "outputs": [],
   "source": [
    "#Replace zeros with 3s\n",
    "for k in range(0, len(X_mod)):\n",
    "    mv = np.mean(X_mod[k])\n",
    "    X_mod[k]=np.where(X_mod[k]==0,3,X_mod[k])"
   ]
  },
  {
   "cell_type": "code",
   "execution_count": 11,
   "id": "a91fd47f",
   "metadata": {},
   "outputs": [
    {
     "name": "stdout",
     "output_type": "stream",
     "text": [
      "Runtime of model: 2.906679153442383\n"
     ]
    },
    {
     "name": "stderr",
     "output_type": "stream",
     "text": [
      "/home/mharms/anaconda3/envs/machine_learning/lib/python3.10/site-packages/sklearn/decomposition/_nmf.py:1665: ConvergenceWarning: Maximum number of iterations 1500 reached. Increase it to improve convergence.\n",
      "  warnings.warn(\n"
     ]
    },
    {
     "name": "stdout",
     "output_type": "stream",
     "text": [
      "RMSE: 1.1341797357112018\n"
     ]
    }
   ],
   "source": [
    "rec_mod = RecSys(data)\n",
    "rec_mod.Mr = X_mod\n",
    "rec_mod.nmf()\n",
    "y_pred1 =  rec_mod.predict()\n",
    "print(f\"RMSE: {rec_mod.rmse(y_pred1)}\")"
   ]
  },
  {
   "cell_type": "code",
   "execution_count": null,
   "id": "9228f676",
   "metadata": {},
   "outputs": [],
   "source": []
  }
 ],
 "metadata": {
  "kernelspec": {
   "display_name": "Machine Learning",
   "language": "python",
   "name": "machine_learning"
  },
  "language_info": {
   "codemirror_mode": {
    "name": "ipython",
    "version": 3
   },
   "file_extension": ".py",
   "mimetype": "text/x-python",
   "name": "python",
   "nbconvert_exporter": "python",
   "pygments_lexer": "ipython3",
   "version": "3.10.9"
  },
  "title": "Peer-graded Assignment: Week 4: Part 2"
 },
 "nbformat": 4,
 "nbformat_minor": 5
}
